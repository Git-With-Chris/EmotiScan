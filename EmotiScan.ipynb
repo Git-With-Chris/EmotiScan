{
 "cells": [
  {
   "cell_type": "markdown",
   "metadata": {
    "id": "ZwWBrFGqk0qL"
   },
   "source": [
    "# <font color='289C4E'>EmotiScan - Exploratory Data Analysis<font><a class='anchor' id='top'></a>\n",
    "\n",
    "---\n",
    "\n",
    "## Aim\n",
    "\n",
    "The aim of the project is to develop an end-to-end trained deep Convolutional Neural Network (CNN) and leverage deep learning techniques to build a model that can automatically detect and classify Facial Emotions and Facial Action Coding System (FACS) codes present in images.\n",
    "\n",
    "1. **Emotion:**\n",
    "\n",
    "The first objective of the task is to determine whether the image displays a \"Positive,\" \"Negative,\" or \"Surprised\" emotion on the subject's face. This involves training the CNN to recognize and classify different emotional states based on facial expressions.\n",
    " \n",
    "2. **FACS Codes:**\n",
    "\n",
    "The second objective aims to predict whether a particular facial action corresponds to a specific FACS code or not. The FACS codes represent different facial movements and muscle actions.\n",
    "    \n",
    "This notebook presents the initial data analysis conducted to comprehend the characteristics and structure of the dataset. It includes an examination of data types, distribution, and key variables, providing insights necessary for subsequent modeling and analysis stages. The analysis also visualizes the distribution of high-level emotions and FACS (Facial Action Coding System) codes, helping to elucidate the underlying patterns and trends within the dataset.\n",
    "\n",
    "---\n",
    "Note: You can navigate through different sections through the Table of Contents Tab."
   ]
  },
  {
   "cell_type": "markdown",
   "metadata": {
    "id": "x7ZLgrgxlYcr"
   },
   "source": [
    "# **Data**\n",
    "\n",
    "The dataset being used for this project is a **subset** obtained from CK+ dataset published with Lucey, Patrick, Jeffrey F.Cohn, Takeo Kanade, Jason Saragih, Zara Ambadar, and Iain Matthews.\n",
    "\n",
    "Before building a model it is essential we have a look at the data set it self and investigate its variables."
   ]
  },
  {
   "cell_type": "code",
   "execution_count": 3,
   "metadata": {
    "id": "mbeZf3NllEsj"
   },
   "outputs": [],
   "source": [
    "# Import Libraries for Data Manipulation and Visualization\n",
    "import pandas as pd\n",
    "import numpy as np\n",
    "import seaborn as sns\n",
    "import random\n",
    "import cv2\n",
    "import matplotlib.pyplot as plt\n",
    "\n",
    "# Import Libraries for Model Evaluation\n",
    "from sklearn.metrics import confusion_matrix\n",
    "from sklearn.metrics import classification_report\n",
    "from sklearn.model_selection import train_test_split\n",
    "from sklearn.utils.class_weight import compute_class_weight\n",
    "\n",
    "# Uncomment to install TensorFlow Addons\n",
    "# !pip install tensorflow-addons\n",
    "\n",
    "# Import TensorFlow and Keras\n",
    "import tensorflow as tf\n",
    "import tensorflow_addons as tfa\n",
    "from tensorflow import keras\n",
    "\n",
    "# Import Keras Layers and Models\n",
    "from keras import layers, Model\n",
    "from keras.layers import Input, Dense, Flatten, GlobalAveragePooling2D, Lambda, Dropout\n",
    "from keras.utils import to_categorical\n",
    "from keras.applications import DenseNet201\n",
    "\n",
    "# Import Keras Optimizers, Metrics, and Callbacks\n",
    "from keras.optimizers import Adam\n",
    "from keras.metrics import AUC\n",
    "from keras.callbacks import EarlyStopping, ReduceLROnPlateau"
   ]
  },
  {
   "cell_type": "code",
   "execution_count": 6,
   "metadata": {
    "colab": {
     "base_uri": "https://localhost:8080/",
     "height": 516
    },
    "id": "RbzohvZwlimX",
    "outputId": "a92a774d-1b99-4c84-d8bd-a865c394bd76"
   },
   "outputs": [
    {
     "data": {
      "text/html": [
       "<div>\n",
       "<style scoped>\n",
       "    .dataframe tbody tr th:only-of-type {\n",
       "        vertical-align: middle;\n",
       "    }\n",
       "\n",
       "    .dataframe tbody tr th {\n",
       "        vertical-align: top;\n",
       "    }\n",
       "\n",
       "    .dataframe thead th {\n",
       "        text-align: right;\n",
       "    }\n",
       "</style>\n",
       "<table border=\"1\" class=\"dataframe\">\n",
       "  <thead>\n",
       "    <tr style=\"text-align: right;\">\n",
       "      <th></th>\n",
       "      <th>subject</th>\n",
       "      <th>sequence</th>\n",
       "      <th>image_index</th>\n",
       "      <th>filepath</th>\n",
       "      <th>file_prefix</th>\n",
       "      <th>AU17</th>\n",
       "      <th>AU1</th>\n",
       "      <th>AU2</th>\n",
       "      <th>AU25</th>\n",
       "      <th>AU27</th>\n",
       "      <th>...</th>\n",
       "      <th>AU7</th>\n",
       "      <th>AU23</th>\n",
       "      <th>AU24</th>\n",
       "      <th>AU6</th>\n",
       "      <th>AU12</th>\n",
       "      <th>AU15</th>\n",
       "      <th>AU14</th>\n",
       "      <th>AU11</th>\n",
       "      <th>AU26</th>\n",
       "      <th>high_level_emotion</th>\n",
       "    </tr>\n",
       "  </thead>\n",
       "  <tbody>\n",
       "    <tr>\n",
       "      <th>0</th>\n",
       "      <td>S005</td>\n",
       "      <td>1</td>\n",
       "      <td>11</td>\n",
       "      <td>./cohn-kanade-images/S005/001/S005_001_0000001...</td>\n",
       "      <td>S005_001_00000011</td>\n",
       "      <td>1</td>\n",
       "      <td>0</td>\n",
       "      <td>0</td>\n",
       "      <td>0</td>\n",
       "      <td>0</td>\n",
       "      <td>...</td>\n",
       "      <td>0</td>\n",
       "      <td>0</td>\n",
       "      <td>0</td>\n",
       "      <td>0</td>\n",
       "      <td>0</td>\n",
       "      <td>0</td>\n",
       "      <td>0</td>\n",
       "      <td>0</td>\n",
       "      <td>0</td>\n",
       "      <td>negative</td>\n",
       "    </tr>\n",
       "    <tr>\n",
       "      <th>1</th>\n",
       "      <td>S010</td>\n",
       "      <td>1</td>\n",
       "      <td>14</td>\n",
       "      <td>./cohn-kanade-images/S010/001/S010_001_0000001...</td>\n",
       "      <td>S010_001_00000014</td>\n",
       "      <td>0</td>\n",
       "      <td>1</td>\n",
       "      <td>1</td>\n",
       "      <td>1</td>\n",
       "      <td>0</td>\n",
       "      <td>...</td>\n",
       "      <td>0</td>\n",
       "      <td>0</td>\n",
       "      <td>0</td>\n",
       "      <td>0</td>\n",
       "      <td>0</td>\n",
       "      <td>0</td>\n",
       "      <td>0</td>\n",
       "      <td>0</td>\n",
       "      <td>0</td>\n",
       "      <td>negative</td>\n",
       "    </tr>\n",
       "    <tr>\n",
       "      <th>2</th>\n",
       "      <td>S010</td>\n",
       "      <td>2</td>\n",
       "      <td>14</td>\n",
       "      <td>./cohn-kanade-images/S010/002/S010_002_0000001...</td>\n",
       "      <td>S010_002_00000014</td>\n",
       "      <td>0</td>\n",
       "      <td>1</td>\n",
       "      <td>1</td>\n",
       "      <td>1</td>\n",
       "      <td>1</td>\n",
       "      <td>...</td>\n",
       "      <td>0</td>\n",
       "      <td>0</td>\n",
       "      <td>0</td>\n",
       "      <td>0</td>\n",
       "      <td>0</td>\n",
       "      <td>0</td>\n",
       "      <td>0</td>\n",
       "      <td>0</td>\n",
       "      <td>0</td>\n",
       "      <td>surprise</td>\n",
       "    </tr>\n",
       "    <tr>\n",
       "      <th>3</th>\n",
       "      <td>S010</td>\n",
       "      <td>3</td>\n",
       "      <td>18</td>\n",
       "      <td>./cohn-kanade-images/S010/003/S010_003_0000001...</td>\n",
       "      <td>S010_003_00000018</td>\n",
       "      <td>1</td>\n",
       "      <td>0</td>\n",
       "      <td>0</td>\n",
       "      <td>0</td>\n",
       "      <td>0</td>\n",
       "      <td>...</td>\n",
       "      <td>0</td>\n",
       "      <td>0</td>\n",
       "      <td>0</td>\n",
       "      <td>0</td>\n",
       "      <td>0</td>\n",
       "      <td>0</td>\n",
       "      <td>0</td>\n",
       "      <td>0</td>\n",
       "      <td>0</td>\n",
       "      <td>negative</td>\n",
       "    </tr>\n",
       "    <tr>\n",
       "      <th>4</th>\n",
       "      <td>S010</td>\n",
       "      <td>4</td>\n",
       "      <td>19</td>\n",
       "      <td>./cohn-kanade-images/S010/004/S010_004_0000001...</td>\n",
       "      <td>S010_004_00000019</td>\n",
       "      <td>1</td>\n",
       "      <td>0</td>\n",
       "      <td>0</td>\n",
       "      <td>0</td>\n",
       "      <td>0</td>\n",
       "      <td>...</td>\n",
       "      <td>1</td>\n",
       "      <td>1</td>\n",
       "      <td>1</td>\n",
       "      <td>0</td>\n",
       "      <td>0</td>\n",
       "      <td>0</td>\n",
       "      <td>0</td>\n",
       "      <td>0</td>\n",
       "      <td>0</td>\n",
       "      <td>negative</td>\n",
       "    </tr>\n",
       "  </tbody>\n",
       "</table>\n",
       "<p>5 rows × 21 columns</p>\n",
       "</div>"
      ],
      "text/plain": [
       "  subject  sequence  image_index  \\\n",
       "0    S005         1           11   \n",
       "1    S010         1           14   \n",
       "2    S010         2           14   \n",
       "3    S010         3           18   \n",
       "4    S010         4           19   \n",
       "\n",
       "                                            filepath        file_prefix  AU17  \\\n",
       "0  ./cohn-kanade-images/S005/001/S005_001_0000001...  S005_001_00000011     1   \n",
       "1  ./cohn-kanade-images/S010/001/S010_001_0000001...  S010_001_00000014     0   \n",
       "2  ./cohn-kanade-images/S010/002/S010_002_0000001...  S010_002_00000014     0   \n",
       "3  ./cohn-kanade-images/S010/003/S010_003_0000001...  S010_003_00000018     1   \n",
       "4  ./cohn-kanade-images/S010/004/S010_004_0000001...  S010_004_00000019     1   \n",
       "\n",
       "   AU1  AU2  AU25  AU27  ...  AU7  AU23  AU24  AU6  AU12  AU15  AU14  AU11  \\\n",
       "0    0    0     0     0  ...    0     0     0    0     0     0     0     0   \n",
       "1    1    1     1     0  ...    0     0     0    0     0     0     0     0   \n",
       "2    1    1     1     1  ...    0     0     0    0     0     0     0     0   \n",
       "3    0    0     0     0  ...    0     0     0    0     0     0     0     0   \n",
       "4    0    0     0     0  ...    1     1     1    0     0     0     0     0   \n",
       "\n",
       "   AU26  high_level_emotion  \n",
       "0     0            negative  \n",
       "1     0            negative  \n",
       "2     0            surprise  \n",
       "3     0            negative  \n",
       "4     0            negative  \n",
       "\n",
       "[5 rows x 21 columns]"
      ]
     },
     "execution_count": 6,
     "metadata": {},
     "output_type": "execute_result"
    }
   ],
   "source": [
    "# Read the data and the image file paths\n",
    "data = pd.read_csv(\"Data/data_labels.csv\")\n",
    "image_paths = data['filepath'].tolist()\n",
    "\n",
    "data.head()"
   ]
  },
  {
   "cell_type": "code",
   "execution_count": 7,
   "metadata": {
    "colab": {
     "base_uri": "https://localhost:8080/"
    },
    "id": "CkxxKN1VlkLk",
    "outputId": "2ca7b6ae-1295-4014-b58b-0baecd16ef96"
   },
   "outputs": [
    {
     "name": "stdout",
     "output_type": "stream",
     "text": [
      "<class 'pandas.core.frame.DataFrame'>\n",
      "RangeIndex: 560 entries, 0 to 559\n",
      "Data columns (total 21 columns):\n",
      " #   Column              Non-Null Count  Dtype \n",
      "---  ------              --------------  ----- \n",
      " 0   subject             560 non-null    object\n",
      " 1   sequence            560 non-null    int64 \n",
      " 2   image_index         560 non-null    int64 \n",
      " 3   filepath            560 non-null    object\n",
      " 4   file_prefix         560 non-null    object\n",
      " 5   AU17                560 non-null    int64 \n",
      " 6   AU1                 560 non-null    int64 \n",
      " 7   AU2                 560 non-null    int64 \n",
      " 8   AU25                560 non-null    int64 \n",
      " 9   AU27                560 non-null    int64 \n",
      " 10  AU4                 560 non-null    int64 \n",
      " 11  AU7                 560 non-null    int64 \n",
      " 12  AU23                560 non-null    int64 \n",
      " 13  AU24                560 non-null    int64 \n",
      " 14  AU6                 560 non-null    int64 \n",
      " 15  AU12                560 non-null    int64 \n",
      " 16  AU15                560 non-null    int64 \n",
      " 17  AU14                560 non-null    int64 \n",
      " 18  AU11                560 non-null    int64 \n",
      " 19  AU26                560 non-null    int64 \n",
      " 20  high_level_emotion  560 non-null    object\n",
      "dtypes: int64(17), object(4)\n",
      "memory usage: 92.0+ KB\n"
     ]
    }
   ],
   "source": [
    "# Structure of the data set\n",
    "data.info()"
   ]
  },
  {
   "cell_type": "code",
   "execution_count": 8,
   "metadata": {
    "colab": {
     "base_uri": "https://localhost:8080/",
     "height": 375
    },
    "id": "qVoQAM_5lqmv",
    "outputId": "a7ddf757-f8a6-497f-b325-03329bdba6a1"
   },
   "outputs": [
    {
     "data": {
      "image/png": "[encoded data removed]",
      "text/plain": [
       "<Figure size 2200x600 with 2 Axes>"
      ]
     },
     "metadata": {},
     "output_type": "display_data"
    }
   ],
   "source": [
    "# Visualise the FACS code and Emotion labels\n",
    "fig, axes = plt.subplots(1, 2, figsize=(22, 6))\n",
    "\n",
    "# First subplot: High-Level Emotions\n",
    "data[\"high_level_emotion\"].value_counts().plot(kind=\"bar\", edgecolor=\"k\", ax=axes[0], color='skyblue')\n",
    "axes[0].set_xlabel(\"Count\")\n",
    "axes[0].set_ylabel(\"Emotion\")\n",
    "axes[0].set_title(\"Count of High-Level Emotions\")\n",
    "axes[0].tick_params(axis=\"x\", rotation=0)\n",
    "\n",
    "# Second subplot: FACS Codes\n",
    "facs_columns = data.columns[5:20]\n",
    "counts = data[facs_columns].sum()\n",
    "\n",
    "axes[1].bar(counts.index, counts.values, color='lightseagreen', edgecolor=\"k\")\n",
    "axes[1].set_xlabel('Count')\n",
    "axes[1].set_ylabel('FACS Code')\n",
    "axes[1].set_title('FACS Code')\n",
    "axes[1].tick_params(axis=\"x\")\n",
    "\n",
    "# Adjust the layout to prevent overlapping labels\n",
    "plt.tight_layout()\n",
    "plt.show()"
   ]
  },
  {
   "cell_type": "code",
   "execution_count": 9,
   "metadata": {
    "colab": {
     "base_uri": "https://localhost:8080/",
     "height": 393
    },
    "id": "iwTDpsgWls7O",
    "outputId": "1fbb0641-eb6c-4c9d-b762-e937f4606dbc"
   },
   "outputs": [
    {
     "data": {
      "image/png": "[encoded data removed]",
      "text/plain": [
       "<Figure size 2500x600 with 1 Axes>"
      ]
     },
     "metadata": {},
     "output_type": "display_data"
    }
   ],
   "source": [
    "# Plotting the distribution of images per subject\n",
    "plt.figure(figsize=(25, 6))\n",
    "\n",
    "data[\"subject\"].value_counts().plot(kind=\"bar\")\n",
    "\n",
    "plt.xlabel(\"Count\")\n",
    "plt.ylabel(\"Subject\")\n",
    "plt.title(\"Counts of Subject Images\")\n",
    "plt.show()"
   ]
  },
  {
   "cell_type": "markdown",
   "metadata": {
    "id": "ju_Hl1WslvLj"
   },
   "source": [
    "# **Preprocessing Dataset**\n",
    "\n",
    "This code segment is essential for preparing the dataset before training machine learning models for emotion recognition and facial action unit classification. It ensures proper mapping of labels and appropriate distribution of data across training, validation, and testing sets to evaluate model performance."
   ]
  },
  {
   "cell_type": "code",
   "execution_count": 10,
   "metadata": {
    "id": "garm3dVMl0QO"
   },
   "outputs": [],
   "source": [
    "# Create emotion mappings\n",
    "emotions_to_labels = {'negative': 0, 'positive': 1, 'surprise': 2}\n",
    "\n",
    "# Apply mappings to the target\n",
    "emotion_labels = data['high_level_emotion'].map(emotions_to_labels).values\n",
    "facs_labels = data[['AU17', 'AU1', 'AU2', 'AU25', 'AU27', 'AU4', 'AU7', 'AU23', 'AU24', 'AU6', 'AU12', 'AU15', 'AU14', 'AU11', 'AU26']].values"
   ]
  },
  {
   "cell_type": "code",
   "execution_count": 11,
   "metadata": {
    "id": "W7dSPWXPl22n"
   },
   "outputs": [],
   "source": [
    "# Get unique subject IDs\n",
    "unique_subjects = data['subject'].unique()\n",
    "\n",
    "# Split subjects into training and remaining (validation + test)\n",
    "subjects_train, subjects_remain = train_test_split(unique_subjects, test_size=0.2, random_state=42)\n",
    "\n",
    "# Split remaining subjects into validation and test\n",
    "subjects_val, subjects_test = train_test_split(subjects_remain, test_size=0.45, random_state=42)\n",
    "\n",
    "# Create splits based on selected subjects\n",
    "train_set = data[data['subject'].isin(subjects_train)]\n",
    "val_set = data[data['subject'].isin(subjects_val)]\n",
    "test_set = data[data['subject'].isin(subjects_test)]"
   ]
  },
  {
   "cell_type": "code",
   "execution_count": 12,
   "metadata": {
    "colab": {
     "base_uri": "https://localhost:8080/"
    },
    "id": "ohD_eENzDsrq",
    "outputId": "21357f4e-659f-4ef0-8118-945370783e18"
   },
   "outputs": [
    {
     "name": "stdout",
     "output_type": "stream",
     "text": [
      "Number of observations in the training set:  443\n",
      "Number of observations in the validation set:  60\n",
      "Number of observations in the testing set:  57\n"
     ]
    }
   ],
   "source": [
    "print(\"Number of observations in the training set: \",len(train_set))\n",
    "print(\"Number of observations in the validation set: \",len(val_set))\n",
    "print(\"Number of observations in the testing set: \",len(test_set))"
   ]
  },
  {
   "cell_type": "code",
   "execution_count": 13,
   "metadata": {
    "colab": {
     "base_uri": "https://localhost:8080/",
     "height": 411
    },
    "id": "r3u0qbHfl4RY",
    "outputId": "ddbcaabf-2ea4-4ee8-92e4-0cefbe5f5306"
   },
   "outputs": [
    {
     "data": {
      "image/png": "[encoded data removed]",
      "text/plain": [
       "<Figure size 2000x600 with 3 Axes>"
      ]
     },
     "metadata": {},
     "output_type": "display_data"
    }
   ],
   "source": [
    "# Plot the distribution of emotion classes in the respective splits\n",
    "fig, axes = plt.subplots(1, 3, figsize=(20, 6))\n",
    "\n",
    "train_set['high_level_emotion'].value_counts().plot(kind='barh', ax=axes[0], color='lightseagreen', edgecolor=\"k\")\n",
    "axes[0].set_title('Training Set Emotion Distribution')\n",
    "axes[0].tick_params(axis='x', rotation=0)\n",
    "\n",
    "val_set['high_level_emotion'].value_counts().plot(kind='barh', ax=axes[1], color='skyblue', edgecolor=\"k\")\n",
    "axes[1].set_title('Validation Set Emotion Distribution')\n",
    "axes[1].tick_params(axis='x', rotation=0)\n",
    "\n",
    "test_set['high_level_emotion'].value_counts().plot(kind='barh', ax=axes[2], color='lightcoral', edgecolor=\"k\")\n",
    "axes[2].set_title('Test Set Emotion Distribution')\n",
    "axes[2].tick_params(axis='x', rotation=0)\n",
    "\n",
    "plt.tight_layout()\n",
    "plt.show()"
   ]
  },
  {
   "cell_type": "code",
   "execution_count": 14,
   "metadata": {
    "colab": {
     "base_uri": "https://localhost:8080/",
     "height": 411
    },
    "id": "wCNrj6Rhl6WL",
    "outputId": "a89d9fe7-58f8-4660-f6ab-1cc998c4923b"
   },
   "outputs": [
    {
     "data": {
      "image/png": "[encoded data removed]",
      "text/plain": [
       "<Figure size 2000x600 with 3 Axes>"
      ]
     },
     "metadata": {},
     "output_type": "display_data"
    }
   ],
   "source": [
    "# Plot the distribution of FACS classes in the respective splits\n",
    "fig, axes = plt.subplots(1, 3, figsize=(20, 6))\n",
    "\n",
    "train_counts = train_set[train_set.columns[5:20]].sum()\n",
    "val_counts = val_set[val_set.columns[5:20]].sum()\n",
    "test_counts = test_set[test_set.columns[5:20]].sum()\n",
    "\n",
    "axes[0].barh(train_counts.index, train_counts.values, color='lightseagreen', edgecolor=\"k\")\n",
    "axes[0].set_xlabel('Count')\n",
    "axes[0].set_ylabel('FACS Code')\n",
    "axes[0].set_title('Train FACS Code')\n",
    "axes[0].tick_params(axis=\"x\")\n",
    "\n",
    "axes[1].barh(val_counts.index, val_counts.values, color='skyblue', edgecolor=\"k\")\n",
    "axes[1].set_xlabel('Count')\n",
    "axes[1].set_ylabel('FACS Code')\n",
    "axes[1].set_title('Validation FACS Code')\n",
    "axes[1].tick_params(axis=\"x\")\n",
    "\n",
    "axes[2].barh(test_counts.index, test_counts.values, color='lightcoral', edgecolor=\"k\")\n",
    "axes[2].set_xlabel('Test Count')\n",
    "axes[2].set_ylabel('FACS Code')\n",
    "axes[2].set_title('FACS Code')\n",
    "axes[2].tick_params(axis=\"x\")\n",
    "\n",
    "# Adjust the layout to prevent overlapping labels\n",
    "plt.tight_layout()\n",
    "plt.show()"
   ]
  },
  {
   "cell_type": "markdown",
   "metadata": {
    "id": "zt6gvCrMl9N4"
   },
   "source": [
    "# **Data Loader**\n",
    "\n",
    "DataGenerator is used to efficiently load and preprocess data for training deep learning models. It takes image file paths, corresponding facs_features, emotion_labels, batch size, input size, and optional augmentation as inputs.\n",
    "The class initializes attributes such as image paths, facs features, emotion labels, batch size, etc.\n",
    "\n",
    "* The **__len__** method returns the number of batches per epoch based on the available data.\n",
    "* The **__getitem__** method fetches a batch of data by selecting batch indexes, loading images, and preprocessing them.\n",
    "The on_epoch_end method shuffles the data indexes at the end of each epoch, if enabled.\n",
    "* The **load_and_preprocess_image** method loads and preprocesses a single image, applying augmentation if enabled.\n",
    "\n",
    "The generator improves memory utilization and enables integration with the training loop while ensuring the data is properly preprocessed and augmented to enhance model generalization."
   ]
  },
  {
   "cell_type": "code",
   "execution_count": null,
   "metadata": {
    "id": "Rbf8SYGRmAgp"
   },
   "outputs": [],
   "source": [
    "class DataGenerator(keras.utils.Sequence):\n",
    "\n",
    "  # Initialize the data generator\n",
    "  def __init__(self, image_paths, facs_features, emotion_labels, batch_size, input_size, shuffle=True, Augment=True):\n",
    "    # Initialize variables\n",
    "    self.image_paths = image_paths\n",
    "    self.facs_features = facs_features\n",
    "    self.emotion_labels = emotion_labels\n",
    "    self.dim = (224, 224, 3)\n",
    "    self.batch_size = batch_size\n",
    "    self.input_size = input_size\n",
    "    self.shuffle = shuffle\n",
    "    self.Augment = Augment\n",
    "    self.indexes = np.arange(len(self.image_paths))\n",
    "    self.data_mean = 0\n",
    "    self.data_std = 255.0\n",
    "\n",
    "  # Get the number of batches\n",
    "  def __len__(self):\n",
    "    return int(np.ceil(len(self.image_paths) / self.batch_size))\n",
    "\n",
    "  # Get a batch of data\n",
    "  def __getitem__(self, index):\n",
    "    # Select batch indexes\n",
    "    batch_indexes = self.indexes[index * self.batch_size:(index + 1) * self.batch_size]\n",
    "\n",
    "    # Load and preprocess images\n",
    "    batch_image_paths = [self.image_paths[i] for i in batch_indexes]\n",
    "    batch_images = np.array([self.load_and_preprocess_image(path) for path in batch_image_paths])\n",
    "\n",
    "    # Get batch facs features and emotion labels\n",
    "    batch_facs_features = self.facs_features[batch_indexes]\n",
    "    batch_emotion_labels = self.emotion_labels[batch_indexes]\n",
    "    batch_emotion_labels_one_hot = to_categorical(batch_emotion_labels, num_classes=3)\n",
    "\n",
    "    return batch_images, {'facs_output': batch_facs_features, 'emotion_output': batch_emotion_labels_one_hot}\n",
    "\n",
    "  # Shuffle data at the end of each epoch\n",
    "  def on_epoch_end(self):\n",
    "    if self.shuffle:\n",
    "      np.random.shuffle(self.indexes)\n",
    "\n",
    "  # Load and preprocess a single image\n",
    "  def load_and_preprocess_image(self, image_path):\n",
    "    image = cv2.imread(image_path)\n",
    "    image = cv2.cvtColor(image, cv2.COLOR_RGB2BGR)\n",
    "    image = cv2.resize(image, (224, 224))\n",
    "\n",
    "    # Apply data augmentation if enabled\n",
    "    if self.Augment:\n",
    "      image = tf.keras.preprocessing.image.random_rotation(image, 10)\n",
    "      image = tf.keras.preprocessing.image.random_shift(image, 0.15, 0.15)\n",
    "      image = tf.keras.preprocessing.image.random_zoom(image, (0.8, 1.2))\n",
    "      image = tf.image.random_flip_left_right(image)\n",
    "\n",
    "      image = tf.image.random_brightness(image, max_delta=0.1)\n",
    "\n",
    "      image = tf.image.resize_with_pad(image, 224, 224)\n",
    "      image = tf.image.random_crop(image, size=self.dim)\n",
    "\n",
    "    image = (image - self.data_mean) / self.data_std\n",
    "\n",
    "    return image"
   ]
  },
  {
   "cell_type": "code",
   "execution_count": null,
   "metadata": {},
   "outputs": [],
   "source": []
  },
  {
   "cell_type": "code",
   "execution_count": 21,
   "metadata": {},
   "outputs": [],
   "source": [
    "from dataloader import DataGenerator\n"
   ]
  },
  {
   "cell_type": "code",
   "execution_count": 22,
   "metadata": {
    "id": "mElEJAiEmhp7"
   },
   "outputs": [],
   "source": [
    "# Define data loader parameters\n",
    "batch_size = 16\n",
    "input_size = (224, 224)\n",
    "\n",
    "train_images = train_set['filepath'].tolist()\n",
    "train_facs_features = train_set[['AU17', 'AU1', 'AU2', 'AU25', 'AU27', 'AU4', 'AU7', 'AU23', 'AU24', 'AU6', 'AU12', 'AU15', 'AU14', 'AU11', 'AU26']].values\n",
    "train_emotion_labels = train_set['high_level_emotion'].map(emotions_to_labels).values\n",
    "\n",
    "val_images = val_set['filepath'].tolist()\n",
    "val_facs_features = val_set[['AU17', 'AU1', 'AU2', 'AU25', 'AU27', 'AU4', 'AU7', 'AU23', 'AU24', 'AU6', 'AU12', 'AU15', 'AU14', 'AU11', 'AU26']].values\n",
    "val_emotion_labels = val_set['high_level_emotion'].map(emotions_to_labels).values\n",
    "\n",
    "test_images = test_set['filepath'].tolist()\n",
    "test_facs_features = test_set[['AU17', 'AU1', 'AU2', 'AU25', 'AU27', 'AU4', 'AU7', 'AU23', 'AU24', 'AU6', 'AU12', 'AU15', 'AU14', 'AU11', 'AU26']].values\n",
    "test_emotion_labels = test_set['high_level_emotion'].map(emotions_to_labels).values"
   ]
  },
  {
   "cell_type": "code",
   "execution_count": 23,
   "metadata": {
    "id": "vufu02oymlUE"
   },
   "outputs": [],
   "source": [
    "# Create custom data loader instances\n",
    "train_data_loader = DataGenerator(train_images,\n",
    "                                  train_facs_features,\n",
    "                                  train_emotion_labels,\n",
    "                                  batch_size,\n",
    "                                  input_size,\n",
    "                                  shuffle=True, Augment=True)\n",
    "\n",
    "val_data_loader = DataGenerator(val_images,\n",
    "                                val_facs_features,\n",
    "                                val_emotion_labels,\n",
    "                                batch_size,\n",
    "                                input_size,\n",
    "                                shuffle=True, Augment=False)\n",
    "\n",
    "test_data_loader = DataGenerator(test_images,\n",
    "                                 test_facs_features,\n",
    "                                 test_emotion_labels,\n",
    "                                 batch_size,\n",
    "                                 input_size,\n",
    "                                 shuffle=False, Augment=False)"
   ]
  },
  {
   "cell_type": "code",
   "execution_count": null,
   "metadata": {
    "colab": {
     "base_uri": "https://localhost:8080/",
     "height": 559
    },
    "id": "QYWoJcEwm0fr",
    "outputId": "5726d825-d9ae-46ed-c8f7-1c51340379b7"
   },
   "outputs": [],
   "source": [
    "# Select 10 random sample indices to display\n",
    "num_samples = 10\n",
    "sample_indices = random.sample(range(len(train_images)), num_samples)\n",
    "\n",
    "# Load and display sample images\n",
    "plt.figure(figsize=(20, 8))\n",
    "for i, idx in enumerate(sample_indices):\n",
    "    image_path = train_images[idx]\n",
    "    image = train_data_loader.load_and_preprocess_image(image_path)\n",
    "\n",
    "    plt.subplot(2, 5, i + 1)\n",
    "    plt.imshow(image)\n",
    "    plt.title(f\"Shape: {image.shape}\\nEmotion: {train_emotion_labels[idx]}\")\n",
    "    plt.axis('off')\n",
    "\n",
    "plt.tight_layout()\n",
    "plt.show()"
   ]
  },
  {
   "cell_type": "markdown",
   "metadata": {
    "id": "naO0CSvim3VJ"
   },
   "source": [
    "# **Building the Model**\n",
    "\n",
    "As we progress to choosing a model that is best suited for this task, it is essential some key choices are made before the implementation this includes but not limited to learning rates, loss function, evaluation meteric, etc. For this task we will be using DenseNet as it has achieved competitive results on various benchmark datasets, including the ImageNet Large Scale Visual Recognition Challenge (ILSVRC).\n",
    "\n",
    "Also multiple published research papers have used different variants of the VGG architecture as a baseline for facial image recognition.\n",
    "\n"
   ]
  },
  {
   "cell_type": "markdown",
   "metadata": {
    "id": "CaEnikK7nDXq"
   },
   "source": [
    "## **Setting up**\n",
    "\n",
    "In this task we have FACS code prediction along with Emotion prediction. Since a FAC code can be present or absent (0,1) we will be using the binary crossentropy loss and categorical crossentropy loss for emotion prediction as there are multiple classes (negative, positive, surprised). However, before we use these loss meterics it is important to remember that our data set is highly imbalanced as seen in the [Data Section](https://colab.research.google.com/drive/1f7plu_Pkqo7I9p-8eM2W-HTUD1tc2-Lr#scrollTo=Data) therefore these loss functions will need to be weighted.\n",
    "\n",
    "The next step would be to choose an appropriate evaluation metric. In the case of emotion prediction it is a multiclass classification problem and given that the classes are imbalanced and no particular preference to either the type 1 or type 2 error, the chosen meteric is \"Macro F1-Score\".\n",
    "\n",
    "The rationale behind choosing this metric is that the F1 macro score is commonly used in multi-class classification problems to evaluate the overall performance of the model across all classes. It calculates the F1 score for each class and then computes the average across classes. F1 macro considers precision and recall for each class, making it suitable for multi-class imbalanced datasets. It gives equal weight to all classes, preventing bias towards the majority class.\n",
    "\n",
    "As for FACS code prediction the chosen metric is AUC PR (Area Under the Precision-Recall Curve). AUC PR is used in binary classification, particularly when dealing with imbalanced datasets. It focuses on the precision-recall trade-off, which is important when positive class samples are rare. AUC PR provides insights into the model's performance in capturing positive samples while maintaining a high precision. It's a better choice when positive class samples are much fewer than negative class samples."
   ]
  },
  {
   "cell_type": "code",
   "execution_count": null,
   "metadata": {
    "colab": {
     "base_uri": "https://localhost:8080/"
    },
    "id": "l3VF3DlJnHn-",
    "outputId": "02283363-b395-4a88-f814-254ec08753a4"
   },
   "outputs": [],
   "source": [
    "facs_class_weights = {}\n",
    "facs_codes_list = ['AU17', 'AU1', 'AU2', 'AU25', 'AU27', 'AU4', 'AU7', 'AU23', 'AU24', 'AU6', 'AU12', 'AU15', 'AU14', 'AU11', 'AU26']\n",
    "\n",
    "# Calculate class weights for emotion output\n",
    "emotion_class_weights = compute_class_weight('balanced', classes=np.unique(train_emotion_labels), y=train_emotion_labels)\n",
    "emotion_class_weights = dict(enumerate(emotion_class_weights))\n",
    "\n",
    "print(\"Emotion Class weights: \\n\\n\", emotion_class_weights)\n",
    "print(\"\\n\")\n",
    "print(\"=\" * 75)\n",
    "print(\"\\n\")\n",
    "\n",
    "for facs_code in facs_codes_list:\n",
    "    # Get class labels and counts for the FACS code\n",
    "    classes = train_set[facs_code].unique()\n",
    "    counts = train_set[facs_code].value_counts().sort_index()\n",
    "\n",
    "    # Compute class weights for the FACS code\n",
    "    class_weights = compute_class_weight(class_weight='balanced', classes=classes, y=train_set[facs_code])\n",
    "    facs_class_weights[facs_code] = dict(zip(classes, class_weights))\n",
    "\n",
    "# Display FACS code weights\n",
    "print(\"FACS Code Weights:\\n\")\n",
    "for facs_code, weights in facs_class_weights.items():\n",
    "    print(f\"FACS Code: {facs_code}\")\n",
    "    print(\"Class Weights:\", weights)\n",
    "    print()\n"
   ]
  },
  {
   "cell_type": "code",
   "execution_count": null,
   "metadata": {
    "id": "G-8JPSc8nJTK"
   },
   "outputs": [],
   "source": [
    "# Creating a baseline model using DenseNet201 as a base\n",
    "base_model = DenseNet201(include_top=False, weights='imagenet', input_shape=(224, 224, 3))\n",
    "\n",
    "# Freezing the layers in the pre-trained model\n",
    "for layer in base_model.layers:\n",
    "    layer.trainable = False\n",
    "\n",
    "# Ensuring padding is set to 'same' for Conv2D layers\n",
    "for layer in base_model.layers:\n",
    "    if isinstance(layer, tf.keras.layers.Conv2D):\n",
    "        layer.padding = 'same'\n",
    "\n",
    "# Adding custom dense layers on top of the base model\n",
    "x = base_model.output\n",
    "x = GlobalAveragePooling2D()(x)\n",
    "x = Dense(670, activation='relu', kernel_regularizer=keras.regularizers.L2(0.02))(x)\n",
    "x = Dropout(0.35)(x)\n",
    "x = Dense(372, activation='relu', kernel_regularizer=keras.regularizers.L2(0.02))(x)\n",
    "x = Dropout(0.35)(x)\n",
    "\n",
    "# Output layers for FACS codes and emotions\n",
    "facs_output = Dense(15, activation='sigmoid', name='facs_output')(x)\n",
    "emotion_output = Dense(3, activation='softmax', name='emotion_output')(x)\n",
    "\n",
    "# Creating the final model\n",
    "baseline_model = Model(inputs=base_model.input, outputs=[facs_output, emotion_output])\n",
    "\n",
    "#==============================================================================#\n",
    "\n",
    "# Compiling the model with specified optimizer, loss functions, and metrics\n",
    "baseline_model.compile(optimizer=Adam(learning_rate=0.003),\n",
    "                       loss={'facs_output': 'binary_crossentropy',\n",
    "                             'emotion_output': 'categorical_crossentropy'},\n",
    "                       loss_weights={'facs_output': facs_class_weights,\n",
    "                                     'emotion_output': emotion_class_weights},\n",
    "                       metrics={'facs_output': [AUC(curve='PR', name='auc')],\n",
    "                                'emotion_output': tfa.metrics.F1Score(num_classes=3, average='macro', name='f1M')})\n",
    "\n",
    "# Adding early stopping and learning rate reduction callbacks\n",
    "early_stopping = EarlyStopping(monitor='val_loss', patience=7, restore_best_weights=True)\n",
    "reduce_lr = ReduceLROnPlateau(monitor='val_loss', factor=0.2, patience=3, min_lr=1e-8)\n"
   ]
  },
  {
   "cell_type": "code",
   "execution_count": null,
   "metadata": {
    "colab": {
     "base_uri": "https://localhost:8080/"
    },
    "id": "FPnqmrganoHE",
    "outputId": "3e715138-6f54-4552-88c8-f0e170bf5d76"
   },
   "outputs": [],
   "source": [
    "# Training the baseline model using the provided data loaders\n",
    "baseline_history = baseline_model.fit(train_data_loader,\n",
    "                    validation_data=val_data_loader,\n",
    "                    epochs=70,\n",
    "                    callbacks=[reduce_lr])"
   ]
  },
  {
   "cell_type": "code",
   "execution_count": null,
   "metadata": {
    "id": "nHTQ-82hoHET"
   },
   "outputs": [],
   "source": [
    "def plot_metrics(history, facs_metric, emotion_metric):\n",
    "    fig, axes = plt.subplots(2, 2, figsize=(10, 8))\n",
    "\n",
    "    # Plot training and validation loss for FACS codes\n",
    "    axes[0, 0].plot(history.history['facs_output_loss'], label='Training Loss')\n",
    "    axes[0, 0].plot(history.history['val_facs_output_loss'], label='Validation Loss')\n",
    "    axes[0, 0].set_xlabel('Epoch')\n",
    "    axes[0, 0].set_ylabel('Loss')\n",
    "    axes[0, 0].set_title('FACS Output')\n",
    "    axes[0, 0].legend()\n",
    "\n",
    "    # Plot training and validation accuracy for FACS codes\n",
    "    axes[0, 1].plot(history.history[facs_metric], label='Training Accuracy')\n",
    "    axes[0, 1].plot(history.history['val_' + facs_metric], label='Validation Accuracy')\n",
    "    axes[0, 1].set_xlabel('Epoch')\n",
    "    axes[0, 1].set_ylabel('Accuracy')\n",
    "    axes[0, 1].set_title('FACS Output')\n",
    "    axes[0, 1].legend()\n",
    "\n",
    "    # Plot training and validation loss for emotion labels\n",
    "    axes[1, 0].plot(history.history['emotion_output_loss'], label='Training Loss')\n",
    "    axes[1, 0].plot(history.history['val_emotion_output_loss'], label='Validation Loss')\n",
    "    axes[1, 0].set_xlabel('Epoch')\n",
    "    axes[1, 0].set_ylabel('Loss')\n",
    "    axes[1, 0].set_title('Emotion Output')\n",
    "    axes[1, 0].legend()\n",
    "\n",
    "    # Plot training and validation accuracy for emotion labels\n",
    "    axes[1, 1].plot(history.history['emotion_output_f1M'], label='Training Accuracy')\n",
    "    axes[1, 1].plot(history.history['val_emotion_output_f1M'], label='Validation Accuracy')\n",
    "    axes[1, 1].set_xlabel('Epoch')\n",
    "    axes[1, 1].set_ylabel('Accuracy')\n",
    "    axes[1, 1].set_title('Emotion Output')\n",
    "    axes[1, 1].legend()\n",
    "\n",
    "    plt.tight_layout()\n",
    "    plt.show()"
   ]
  },
  {
   "cell_type": "code",
   "execution_count": null,
   "metadata": {
    "id": "jY4xAvDZzam-"
   },
   "outputs": [],
   "source": [
    "def print_test_accuracy(model, test_data_loader):\n",
    "    test_results = model.evaluate(test_data_loader, steps=len(test_data_loader))\n",
    "\n",
    "    facs_accuracy = round(test_results[model.metrics_names.index('facs_output_auc')], 3)\n",
    "    emotion_accuracy = round(test_results[model.metrics_names.index('emotion_output_f1M')], 3)\n",
    "\n",
    "    print(\"===\" * 39)\n",
    "    print(\"Test Accuracy - FACS Codes:\", facs_accuracy)\n",
    "    print(\"Test Accuracy - Emotion Labels:\", emotion_accuracy)"
   ]
  },
  {
   "cell_type": "code",
   "execution_count": null,
   "metadata": {
    "colab": {
     "base_uri": "https://localhost:8080/",
     "height": 807
    },
    "id": "QzfdYXdiziRE",
    "outputId": "fd925766-7e96-4a78-9cdc-1d70df56cbc1"
   },
   "outputs": [],
   "source": [
    "plot_metrics(baseline_history, facs_metric='facs_output_auc', emotion_metric='emotion_output_f1M')"
   ]
  },
  {
   "cell_type": "markdown",
   "metadata": {
    "id": "NGOFXRg42eK8"
   },
   "source": [
    "# **Evaluation**\n",
    "\n",
    "In the evaluation section, the performance of the trained model is assessed using various metrics and visualizations. The primary focus is on understanding how well the model generalizes to unseen data and makes predictions across different classes. This section includes the computation of evaluation metrics such as accuracy, precision, recall, and F1-score for both emotion labels and FACS (Facial Action Coding System) codes.\n",
    "\n",
    "The classification reports provide a detailed summary of the model's performance, offering insights into precision, recall, and F1-score for each class. For emotion labels, classes such as 'negative,' 'happy,' and 'surprised' are evaluated, while FACS codes like 'AU17,' 'AU1,' and 'AU25' are examined for facial expression analysis.\n",
    "\n",
    "Furthermore, confusion matrices are visualized to illustrate the model's ability to correctly predict true positives, false positives, and false negatives for both emotion labels and individual FACS codes. These matrices provide a detailed breakdown of the model's performance on a class-by-class basis, aiding in the identification of specific areas where the model excels or may need improvement.\n",
    "\n",
    "Overall, this evaluation section serves as a comprehensive analysis of the model's effectiveness in recognizing and classifying emotions and facial action units, providing valuable insights for further refinement and application."
   ]
  },
  {
   "cell_type": "code",
   "execution_count": null,
   "metadata": {
    "colab": {
     "base_uri": "https://localhost:8080/"
    },
    "id": "NCPKgJgkzlYP",
    "outputId": "d9bd210d-f88a-4bd5-da54-df77a68ba654"
   },
   "outputs": [],
   "source": [
    "test_loss = baseline_model.evaluate(test_data_loader, steps=len(test_data_loader))\n",
    "\n",
    "\n",
    "print()\n",
    "print(\"===\" * 50)\n",
    "print(\"\\nTest Accuracy - FACS Codes:\", round(test_loss[baseline_model.metrics_names.index('facs_output_auc')], 3))\n",
    "print(\"Test Accuracy - Emotion Labels:\", round(test_loss[baseline_model.metrics_names.index('emotion_output_f1M')], 3))"
   ]
  },
  {
   "cell_type": "code",
   "execution_count": null,
   "metadata": {
    "colab": {
     "base_uri": "https://localhost:8080/"
    },
    "id": "teQgak8qBS3u",
    "outputId": "856b2846-d1ff-4bfa-f1b3-8f1f00fe0ac8"
   },
   "outputs": [],
   "source": [
    "facs_predictions, emotion_predictions = baseline_model.predict(test_data_loader)"
   ]
  },
  {
   "cell_type": "code",
   "execution_count": null,
   "metadata": {
    "id": "loPsEui0CUsp"
   },
   "outputs": [],
   "source": [
    "# Defining Threshold for array of probabilities\n",
    "threshold = 0.5\n",
    "\n",
    "facs_predictions = (facs_predictions > threshold).astype(int)\n",
    "emotion_predictions = (emotion_predictions > threshold).astype(int)"
   ]
  },
  {
   "cell_type": "code",
   "execution_count": null,
   "metadata": {
    "colab": {
     "base_uri": "https://localhost:8080/"
    },
    "id": "ys_lIkoMtIPw",
    "outputId": "a071b8fe-e1c3-4a57-fecf-3c782b85e762"
   },
   "outputs": [],
   "source": [
    "# Emotion class labels\n",
    "class_labels_emotion = ['negative', 'happy', 'surprised']\n",
    "\n",
    "# FACS Codes class labels\n",
    "class_labels_facs = ['AU17', 'AU1', 'AU2', 'AU25', 'AU27', 'AU4', 'AU7', 'AU23', 'AU24', 'AU6', 'AU12', 'AU15', 'AU14', 'AU11', 'AU26']\n",
    "\n",
    "predicted_labels_emotion_classes = np.argmax(emotion_predictions, axis=1)\n",
    "\n",
    "# True labels and Predicted labels for emotion and FACS codes\n",
    "true_labels_emotion =  test_emotion_labels\n",
    "predicted_labels_emotion =  predicted_labels_emotion_classes\n",
    "\n",
    "true_labels_facs =  test_facs_features\n",
    "predicted_labels_facs =  facs_predictions\n",
    "\n",
    "# # Classification Report for Emotion\n",
    "print(\"Classification Report - Emotion:\")\n",
    "print(classification_report(true_labels_emotion, predicted_labels_emotion, target_names=class_labels_emotion, zero_division=1))\n",
    "\n",
    "print('==' * 30)\n",
    "\n",
    "# Classification Report for FACS Codes\n",
    "print(\"\\nClassification Report - FACS Codes:\")\n",
    "print(classification_report(true_labels_facs, predicted_labels_facs, zero_division=1, target_names=class_labels_facs))"
   ]
  },
  {
   "cell_type": "markdown",
   "metadata": {
    "id": "MWICEJm9AoaP"
   },
   "source": [
    "## Inference on FACS Code Classification:\n",
    "\n",
    "  - Class Imbalances: Notable precision, recall, and F1-score of 1.00 for classes with very low support (AU7, AU23, AU24, AU15, AU14, AU11, AU26) suggest potential class imbalance issues. It is also necessary to note that the data set is small for the task at hand.\n",
    "\n",
    "  - Strong Predictions: Codes like AU4, AU25, and AU27 demonstrate high precision, recall, and F1-score, indicating effective model performance in identifying instances of these FACS codes.\n",
    "\n",
    "  - Micro/Macro Averaging: Micro-average F1-score (0.62) is higher than the macro-average (0.37), suggesting relatively better performance on more frequent FACS codes.\n",
    "\n",
    "  - Weighted Average: The weighted average F1-score (0.56) provides a balanced assessment, indicating moderate overall performance in FACS code prediction."
   ]
  },
  {
   "cell_type": "code",
   "execution_count": null,
   "metadata": {
    "colab": {
     "base_uri": "https://localhost:8080/",
     "height": 564
    },
    "id": "Ytg9MY63x0fy",
    "outputId": "0fe0503e-b0e6-4836-ac2d-c901ab559195"
   },
   "outputs": [],
   "source": [
    "# Confusion Matrix for Emotion\n",
    "emotion_conf_matrix = confusion_matrix(true_labels_emotion, predicted_labels_emotion)\n",
    "plt.figure(figsize=(8, 6))\n",
    "sns.heatmap(emotion_conf_matrix, annot=True, fmt='d', cmap='Blues')\n",
    "plt.title('Confusion Matrix - Emotion')\n",
    "plt.xlabel('Predicted')\n",
    "plt.ylabel('True')\n",
    "plt.show()"
   ]
  },
  {
   "cell_type": "code",
   "execution_count": null,
   "metadata": {
    "colab": {
     "base_uri": "https://localhost:8080/",
     "height": 1000
    },
    "id": "UhE9GIHIsMwJ",
    "outputId": "408b43c6-9cda-430c-df98-e6a0dadf0097"
   },
   "outputs": [],
   "source": [
    "# Confusion Matrix for FACS Codes\n",
    "true_labels_facs = test_facs_features\n",
    "predicted_labels_facs = facs_predictions\n",
    "\n",
    "num_facs_codes = true_labels_facs.shape[1]\n",
    "\n",
    "# Calculate the number of rows needed based on 4 columns\n",
    "num_rows = int(np.ceil(num_facs_codes / 4))\n",
    "\n",
    "# Create subplots for each FACS code\n",
    "fig, axes = plt.subplots(nrows=num_rows, ncols=4, figsize=(16, 4*num_rows))\n",
    "\n",
    "# Flatten the 2D array of subplots into a 1D array for easy indexing\n",
    "axes = axes.flatten()\n",
    "\n",
    "class_labels_facs = ['AU17', 'AU1', 'AU2', 'AU25', 'AU27', 'AU4', 'AU7', 'AU23', 'AU24', 'AU6', 'AU12', 'AU15', 'AU14', 'AU11', 'AU26']\n",
    "\n",
    "for i in range(num_facs_codes):\n",
    "    facs_conf_matrix = confusion_matrix(true_labels_facs[:, i], predicted_labels_facs[:, i])\n",
    "    sns.heatmap(facs_conf_matrix, annot=True, fmt='d', cmap='Blues', ax=axes[i])\n",
    "    axes[i].set_title(f'Confusion Matrix - {class_labels_facs[i]}')\n",
    "    axes[i].set_xlabel('Predicted')\n",
    "    axes[i].set_ylabel('True')\n",
    "\n",
    "# Remove any empty subplots\n",
    "for j in range(num_facs_codes, num_rows*4):\n",
    "    fig.delaxes(axes[j])\n",
    "\n",
    "plt.tight_layout()\n",
    "plt.show()"
   ]
  },
  {
   "cell_type": "markdown",
   "metadata": {
    "id": "_NqItZmo_tI1"
   },
   "source": [
    "# **Conclusion**\n",
    "\n",
    "In this project, we developed a comprehensive model for facial expression analysis using a combination of FACS codes and high-level emotion labels. Leveraging a DenseNet201 pre-trained on ImageNet, the model demonstrated robust performance on a diverse dataset, capturing nuanced facial expressions and emotions.\n",
    "\n",
    "## **Highlights**\n",
    "\n",
    "  - Data Preprocessing: Robust data preprocessing and augmentation techniques were applied to enhance the model's resilience to diverse facial orientations, lighting conditions, and expressions. This contributed to the model's capacity to learn invariant features.\n",
    "\n",
    "  - Model Architecture: The DenseNet201 architecture, with added dense layers and dropout regularization, proved effective in extracting complex hierarchical features from facial images.\n",
    "\n",
    "  - Class Weights: Custom class weights were applied, addressing imbalances in the dataset and fostering equitable learning for both emotion and FACS code predictions.\n",
    "\n",
    "  - Evaluation Metrics: Comprehensive evaluation metrics, including classification reports, confusion matrices, and visualizations, provided a thorough understanding of the model's performance on both emotion labels and individual FACS codes.\n",
    "\n",
    "## **Future Improvements**\n",
    "\n",
    "  - Fine-Tuning: While the pre-trained DenseNet201 was beneficial, future work could explore fine-tuning specific layers to adapt the model more closely to the nuances of facial expression data.\n",
    "\n",
    "  - Data Diversity: Expanding the dataset to include a more diverse range of subjects, facial expressions, and environmental conditions could further enhance the model's generalization capabilities.\n",
    "\n",
    "  Interpretable Models: Incorporating techniques for model interpretability, such as Grad-CAM, could provide insights into the specific facial regions influencing predictions.\n",
    "\n",
    "\n"
   ]
  }
 ],
 "metadata": {
  "accelerator": "GPU",
  "colab": {
   "gpuType": "T4",
   "provenance": []
  },
  "kernelspec": {
   "display_name": "Python 3 (ipykernel)",
   "language": "python",
   "name": "python3"
  },
  "language_info": {
   "codemirror_mode": {
    "name": "ipython",
    "version": 3
   },
   "file_extension": ".py",
   "mimetype": "text/x-python",
   "name": "python",
   "nbconvert_exporter": "python",
   "pygments_lexer": "ipython3",
   "version": "3.10.13"
  }
 },
 "nbformat": 4,
 "nbformat_minor": 1
}
